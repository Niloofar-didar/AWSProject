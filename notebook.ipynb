{
 "cells": [
  {
   "cell_type": "code",
   "execution_count": 17,
   "id": "659a708f",
   "metadata": {},
   "outputs": [],
   "source": [
    "'''Steps To Be Followed\n",
    "Importing necessary Libraries\n",
    "Creating S3 bucket\n",
    "Mapping train And Test Data in S3\n",
    "Mapping The path of the models in S3\n",
    "'''\n",
    "import sagemaker\n",
    "import boto3 #lib that enables us to read from s3 bocket\n",
    "from sagemaker.amazon.amazon_estimator import get_image_uri \n",
    "from sagemaker.session import s3_input, Session # to use sagemaker instance\n",
    "\n"
   ]
  },
  {
   "cell_type": "code",
   "execution_count": 24,
   "id": "0d03ca03",
   "metadata": {},
   "outputs": [
    {
     "name": "stdout",
     "output_type": "stream",
     "text": [
      "us-west-1\n"
     ]
    }
   ],
   "source": [
    "bucket_name = 'bankapp12345' # <--- CHANGE THIS VARIABLE TO A UNIQUE NAME FOR YOUR BUCKET\n",
    "my_region = boto3.session.Session().region_name # set the region of the instance\n",
    "print(my_region)\n",
    "s3 = boto3.resource('s3')"
   ]
  },
  {
   "cell_type": "code",
   "execution_count": 26,
   "id": "d5237d45",
   "metadata": {},
   "outputs": [
    {
     "name": "stdout",
     "output_type": "stream",
     "text": [
      "bankapp12345\n"
     ]
    }
   ],
   "source": [
    "x= boto3.client('s3')\n",
    "resp_buck=x.list_buckets()\n",
    "for buck in resp_buck['Buckets']:\n",
    "    print(f'{buck[\"Name\"]}')\n",
    "\n",
    "# try:\n",
    "#     if  my_region == 'us-west-1':\n",
    "#         s3.create_bucket(Bucket=bucket_name)\n",
    "#     print('S3 bucket created successfully')\n",
    "# except Exception as e:\n",
    "#     print('S3 error: ',e)\n",
    "\n"
   ]
  },
  {
   "cell_type": "code",
   "execution_count": 27,
   "id": "6c7cee48",
   "metadata": {},
   "outputs": [
    {
     "name": "stdout",
     "output_type": "stream",
     "text": [
      "s3://bankapp12345/xgboost-as-a-built-in-algo/output\n"
     ]
    }
   ],
   "source": [
    "# set an output path where the trained model will be saved\n",
    "prefix = 'xgboost-as-a-built-in-algo'\n",
    "output_path ='s3://{}/{}/output'.format(bucket_name, prefix)\n",
    "print(output_path)"
   ]
  },
  {
   "cell_type": "code",
   "execution_count": null,
   "id": "64e7f9d5",
   "metadata": {},
   "outputs": [],
   "source": []
  }
 ],
 "metadata": {
  "kernelspec": {
   "display_name": "conda_python3",
   "language": "python",
   "name": "conda_python3"
  },
  "language_info": {
   "codemirror_mode": {
    "name": "ipython",
    "version": 3
   },
   "file_extension": ".py",
   "mimetype": "text/x-python",
   "name": "python",
   "nbconvert_exporter": "python",
   "pygments_lexer": "ipython3",
   "version": "3.10.14"
  }
 },
 "nbformat": 4,
 "nbformat_minor": 5
}
